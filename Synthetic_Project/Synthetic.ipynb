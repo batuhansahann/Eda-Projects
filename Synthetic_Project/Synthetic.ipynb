{
 "cells": [
  {
   "cell_type": "markdown",
   "id": "c12a5498-88ba-4e99-8b80-7e25b24e57fd",
   "metadata": {},
   "source": [
    "<p style=\"background-color:orange;font-family:newtimeroman;font-size:200%;color:white;text-align:center;border-radius:20px 20px;\"><b>EDA Project</b></p>"
   ]
  },
  {
   "cell_type": "markdown",
   "id": "8060c39b-4167-4d07-8545-d2c780ad3079",
   "metadata": {},
   "source": [
    "<b>Contains:</b>\n",
    "<ul>\n",
    "<li><a href=\"#import-library\">Importing Libraries</a></li>\n",
    "<li><a href=\"#loading-dataset\">Loading The Dataset</a></li>\n",
    "<li><a href=\"#understanding-dataset\">Understanding The Dataset</a></li>\n",
    "<li><a href=\"#organizing-columns\">Organizing Columns</a></li>\n",
    "<li><a href=\"#nan-values\">NaN Values</a></li>\n",
    "<li><a href=\"#data-visualization\">Data Visualization</a></li>\n",
    "</ul>"
   ]
  },
  {
   "cell_type": "markdown",
   "id": "f8b1370e-f85d-4452-8786-18150abff29e",
   "metadata": {},
   "source": [
    "<a id='import-library'></a>\n",
    "# <font color='firebrick'> <b>Importing Libraries</b><font color='black'> "
   ]
  },
  {
   "cell_type": "code",
   "execution_count": 1,
   "id": "0496b9e6-1312-4473-8642-22e6d458be77",
   "metadata": {},
   "outputs": [],
   "source": [
    "import numpy as np\n",
    "import pandas as pd\n",
    "import matplotlib.pyplot as plt\n",
    "import seaborn as sns\n",
    "\n",
    "import missingno as msno\n",
    "import plotly.express as px\n",
    "\n",
    "from skimpy import skim\n",
    "\n",
    "import warnings\n",
    "warnings.filterwarnings(\"ignore\")\n",
    "\n",
    "pd.set_option('display.max_columns', None)\n",
    "pd.set_option('display.max_rows', None)"
   ]
  },
  {
   "cell_type": "markdown",
   "id": "e181e802-374f-4270-b3f0-140355587b7e",
   "metadata": {},
   "source": [
    "<a id='loading-dataset'></a>\n",
    "# <font color='firebrick'> <b>Loading The Dataset</b><font color='black'> "
   ]
  },
  {
   "cell_type": "code",
   "execution_count": 2,
   "id": "836a5204-157e-4972-b774-36eecf2a369d",
   "metadata": {},
   "outputs": [],
   "source": [
    "df0 = pd.read_csv(\"synthetic_dataset_with_missing.csv\")\n",
    "df = df0.copy()"
   ]
  },
  {
   "cell_type": "code",
   "execution_count": 3,
   "id": "ccb01142-8b59-4660-8d94-e126c36cabf1",
   "metadata": {},
   "outputs": [
    {
     "data": {
      "text/html": [
       "<div>\n",
       "<style scoped>\n",
       "    .dataframe tbody tr th:only-of-type {\n",
       "        vertical-align: middle;\n",
       "    }\n",
       "\n",
       "    .dataframe tbody tr th {\n",
       "        vertical-align: top;\n",
       "    }\n",
       "\n",
       "    .dataframe thead th {\n",
       "        text-align: right;\n",
       "    }\n",
       "</style>\n",
       "<table border=\"1\" class=\"dataframe\">\n",
       "  <thead>\n",
       "    <tr style=\"text-align: right;\">\n",
       "      <th></th>\n",
       "      <th>User ID</th>\n",
       "      <th>Age</th>\n",
       "      <th>Gender</th>\n",
       "      <th>Country</th>\n",
       "      <th>Purchase Amount</th>\n",
       "      <th>Purchase Date</th>\n",
       "      <th>Product Category</th>\n",
       "    </tr>\n",
       "  </thead>\n",
       "  <tbody>\n",
       "    <tr>\n",
       "      <th>0</th>\n",
       "      <td>1</td>\n",
       "      <td>56.0</td>\n",
       "      <td>Female</td>\n",
       "      <td>USA</td>\n",
       "      <td>331.79</td>\n",
       "      <td>2021-11-21</td>\n",
       "      <td>Sports</td>\n",
       "    </tr>\n",
       "    <tr>\n",
       "      <th>1</th>\n",
       "      <td>2</td>\n",
       "      <td>69.0</td>\n",
       "      <td>Male</td>\n",
       "      <td>Australia</td>\n",
       "      <td>335.72</td>\n",
       "      <td>2022-03-05</td>\n",
       "      <td>Home &amp; Kitchen</td>\n",
       "    </tr>\n",
       "    <tr>\n",
       "      <th>2</th>\n",
       "      <td>3</td>\n",
       "      <td>46.0</td>\n",
       "      <td>NaN</td>\n",
       "      <td>Germany</td>\n",
       "      <td>493.18</td>\n",
       "      <td>NaN</td>\n",
       "      <td>Books</td>\n",
       "    </tr>\n",
       "    <tr>\n",
       "      <th>3</th>\n",
       "      <td>4</td>\n",
       "      <td>32.0</td>\n",
       "      <td>Male</td>\n",
       "      <td>Germany</td>\n",
       "      <td>80.97</td>\n",
       "      <td>2023-06-08</td>\n",
       "      <td>Sports</td>\n",
       "    </tr>\n",
       "    <tr>\n",
       "      <th>4</th>\n",
       "      <td>5</td>\n",
       "      <td>60.0</td>\n",
       "      <td>Female</td>\n",
       "      <td>UK</td>\n",
       "      <td>21.75</td>\n",
       "      <td>NaN</td>\n",
       "      <td>Beauty</td>\n",
       "    </tr>\n",
       "  </tbody>\n",
       "</table>\n",
       "</div>"
      ],
      "text/plain": [
       "   User ID   Age  Gender    Country  Purchase Amount Purchase Date  \\\n",
       "0        1  56.0  Female        USA           331.79    2021-11-21   \n",
       "1        2  69.0    Male  Australia           335.72    2022-03-05   \n",
       "2        3  46.0     NaN    Germany           493.18           NaN   \n",
       "3        4  32.0    Male    Germany            80.97    2023-06-08   \n",
       "4        5  60.0  Female         UK            21.75           NaN   \n",
       "\n",
       "  Product Category  \n",
       "0           Sports  \n",
       "1   Home & Kitchen  \n",
       "2            Books  \n",
       "3           Sports  \n",
       "4           Beauty  "
      ]
     },
     "execution_count": 3,
     "metadata": {},
     "output_type": "execute_result"
    }
   ],
   "source": [
    "df.head()"
   ]
  },
  {
   "cell_type": "markdown",
   "id": "fb633969-c069-4df4-8f09-e86f5287880c",
   "metadata": {},
   "source": [
    "<a id='understanding-dataset'></a>\n",
    "# <font color='firebrick'> <b>Understanding The Dataset</b><font color='black'> "
   ]
  },
  {
   "cell_type": "code",
   "execution_count": 4,
   "id": "6de0d5fa-ab2a-4015-bdab-ca7709b5decd",
   "metadata": {},
   "outputs": [
    {
     "name": "stdout",
     "output_type": "stream",
     "text": [
      "<class 'pandas.core.frame.DataFrame'>\n",
      "RangeIndex: 15000 entries, 0 to 14999\n",
      "Data columns (total 7 columns):\n",
      " #   Column            Non-Null Count  Dtype  \n",
      "---  ------            --------------  -----  \n",
      " 0   User ID           15000 non-null  int64  \n",
      " 1   Age               13500 non-null  float64\n",
      " 2   Gender            14250 non-null  object \n",
      " 3   Country           13800 non-null  object \n",
      " 4   Purchase Amount   13200 non-null  float64\n",
      " 5   Purchase Date     13950 non-null  object \n",
      " 6   Product Category  14100 non-null  object \n",
      "dtypes: float64(2), int64(1), object(4)\n",
      "memory usage: 820.4+ KB\n"
     ]
    }
   ],
   "source": [
    "df.info()"
   ]
  },
  {
   "cell_type": "code",
   "execution_count": 5,
   "id": "dcd48c58-df95-409c-b910-3e6eb095e45d",
   "metadata": {},
   "outputs": [
    {
     "data": {
      "text/plain": [
       "User ID                0\n",
       "Age                 1500\n",
       "Gender               750\n",
       "Country             1200\n",
       "Purchase Amount     1800\n",
       "Purchase Date       1050\n",
       "Product Category     900\n",
       "dtype: int64"
      ]
     },
     "execution_count": 5,
     "metadata": {},
     "output_type": "execute_result"
    }
   ],
   "source": [
    "df.isnull().sum()"
   ]
  },
  {
   "cell_type": "code",
   "execution_count": 6,
   "id": "f4488689-1c46-4a89-b0fa-a99dcb1bf9d6",
   "metadata": {},
   "outputs": [
    {
     "data": {
      "text/html": [
       "<pre style=\"white-space:pre;overflow-x:auto;line-height:normal;font-family:Menlo,'DejaVu Sans Mono',consolas,'Courier New',monospace\">╭──────────────────────────────────────────────── skimpy summary ─────────────────────────────────────────────────╮\n",
       "│ <span style=\"font-style: italic\">         Data Summary         </span> <span style=\"font-style: italic\">      Data Types       </span>                                                          │\n",
       "│ ┏━━━━━━━━━━━━━━━━━━━┳━━━━━━━━┓ ┏━━━━━━━━━━━━━┳━━━━━━━┓                                                          │\n",
       "│ ┃<span style=\"color: #008080; text-decoration-color: #008080; font-weight: bold\"> dataframe         </span>┃<span style=\"color: #008080; text-decoration-color: #008080; font-weight: bold\"> Values </span>┃ ┃<span style=\"color: #008080; text-decoration-color: #008080; font-weight: bold\"> Column Type </span>┃<span style=\"color: #008080; text-decoration-color: #008080; font-weight: bold\"> Count </span>┃                                                          │\n",
       "│ ┡━━━━━━━━━━━━━━━━━━━╇━━━━━━━━┩ ┡━━━━━━━━━━━━━╇━━━━━━━┩                                                          │\n",
       "│ │ Number of rows    │ 15000  │ │ string      │ 4     │                                                          │\n",
       "│ │ Number of columns │ 7      │ │ float64     │ 2     │                                                          │\n",
       "│ └───────────────────┴────────┘ │ int32       │ 1     │                                                          │\n",
       "│                                └─────────────┴───────┘                                                          │\n",
       "│ <span style=\"font-style: italic\">                                                    number                                                    </span>  │\n",
       "│ ┏━━━━━━━━━━━━━━━━━━━━┳━━━━━━━┳━━━━━━━┳━━━━━━━━┳━━━━━━━━┳━━━━━━━┳━━━━━━━━┳━━━━━━━━┳━━━━━━━━┳━━━━━━━━┳━━━━━━━━━┓  │\n",
       "│ ┃<span style=\"font-weight: bold\"> column_name        </span>┃<span style=\"font-weight: bold\"> NA    </span>┃<span style=\"font-weight: bold\"> NA %  </span>┃<span style=\"font-weight: bold\"> mean   </span>┃<span style=\"font-weight: bold\"> sd     </span>┃<span style=\"font-weight: bold\"> p0    </span>┃<span style=\"font-weight: bold\"> p25    </span>┃<span style=\"font-weight: bold\"> p50    </span>┃<span style=\"font-weight: bold\"> p75    </span>┃<span style=\"font-weight: bold\"> p100   </span>┃<span style=\"font-weight: bold\"> hist    </span>┃  │\n",
       "│ ┡━━━━━━━━━━━━━━━━━━━━╇━━━━━━━╇━━━━━━━╇━━━━━━━━╇━━━━━━━━╇━━━━━━━╇━━━━━━━━╇━━━━━━━━╇━━━━━━━━╇━━━━━━━━╇━━━━━━━━━┩  │\n",
       "│ │ <span style=\"color: #af87ff; text-decoration-color: #af87ff\">User ID           </span> │ <span style=\"color: #008080; text-decoration-color: #008080\">    0</span> │ <span style=\"color: #008080; text-decoration-color: #008080\">    0</span> │ <span style=\"color: #008080; text-decoration-color: #008080\">  7500</span> │ <span style=\"color: #008080; text-decoration-color: #008080\">  4330</span> │ <span style=\"color: #008080; text-decoration-color: #008080\">    1</span> │ <span style=\"color: #008080; text-decoration-color: #008080\">  3751</span> │ <span style=\"color: #008080; text-decoration-color: #008080\">  7500</span> │ <span style=\"color: #008080; text-decoration-color: #008080\"> 11250</span> │ <span style=\"color: #008080; text-decoration-color: #008080\"> 15000</span> │ <span style=\"color: #008000; text-decoration-color: #008000\">▇▇▇▇▇▇ </span> │  │\n",
       "│ │ <span style=\"color: #af87ff; text-decoration-color: #af87ff\">Age               </span> │ <span style=\"color: #008080; text-decoration-color: #008080\"> 1500</span> │ <span style=\"color: #008080; text-decoration-color: #008080\">   10</span> │ <span style=\"color: #008080; text-decoration-color: #008080\">  43.4</span> │ <span style=\"color: #008080; text-decoration-color: #008080\"> 14.93</span> │ <span style=\"color: #008080; text-decoration-color: #008080\">   18</span> │ <span style=\"color: #008080; text-decoration-color: #008080\">    31</span> │ <span style=\"color: #008080; text-decoration-color: #008080\">    43</span> │ <span style=\"color: #008080; text-decoration-color: #008080\">    56</span> │ <span style=\"color: #008080; text-decoration-color: #008080\">    69</span> │ <span style=\"color: #008000; text-decoration-color: #008000\">▇▇▇▇▇▇ </span> │  │\n",
       "│ │ <span style=\"color: #af87ff; text-decoration-color: #af87ff\">Purchase Amount   </span> │ <span style=\"color: #008080; text-decoration-color: #008080\"> 1800</span> │ <span style=\"color: #008080; text-decoration-color: #008080\">   12</span> │ <span style=\"color: #008080; text-decoration-color: #008080\"> 253.2</span> │ <span style=\"color: #008080; text-decoration-color: #008080\"> 143.1</span> │ <span style=\"color: #008080; text-decoration-color: #008080\"> 5.05</span> │ <span style=\"color: #008080; text-decoration-color: #008080\"> 130.3</span> │ <span style=\"color: #008080; text-decoration-color: #008080\"> 253.6</span> │ <span style=\"color: #008080; text-decoration-color: #008080\"> 378.6</span> │ <span style=\"color: #008080; text-decoration-color: #008080\"> 499.9</span> │ <span style=\"color: #008000; text-decoration-color: #008000\">▇▇▇▇▇▇ </span> │  │\n",
       "│ └────────────────────┴───────┴───────┴────────┴────────┴───────┴────────┴────────┴────────┴────────┴─────────┘  │\n",
       "│ <span style=\"font-style: italic\">                                                    string                                                    </span>  │\n",
       "│ ┏━━━━━━━━━━━━━━━━━━━━━━━━━━━━━━━━━┳━━━━━━━━━━━┳━━━━━━━━━━━┳━━━━━━━━━━━━━━━━━━━━━━━━━━━┳━━━━━━━━━━━━━━━━━━━━━━┓  │\n",
       "│ ┃<span style=\"font-weight: bold\"> column_name                     </span>┃<span style=\"font-weight: bold\"> NA        </span>┃<span style=\"font-weight: bold\"> NA %      </span>┃<span style=\"font-weight: bold\"> words per row             </span>┃<span style=\"font-weight: bold\"> total words          </span>┃  │\n",
       "│ ┡━━━━━━━━━━━━━━━━━━━━━━━━━━━━━━━━━╇━━━━━━━━━━━╇━━━━━━━━━━━╇━━━━━━━━━━━━━━━━━━━━━━━━━━━╇━━━━━━━━━━━━━━━━━━━━━━┩  │\n",
       "│ │ <span style=\"color: #af87ff; text-decoration-color: #af87ff\">Gender                         </span> │ <span style=\"color: #008080; text-decoration-color: #008080\">      750</span> │ <span style=\"color: #008080; text-decoration-color: #008080\">        5</span> │ <span style=\"color: #008080; text-decoration-color: #008080\">                     0.95</span> │ <span style=\"color: #008080; text-decoration-color: #008080\">               14250</span> │  │\n",
       "│ │ <span style=\"color: #af87ff; text-decoration-color: #af87ff\">Country                        </span> │ <span style=\"color: #008080; text-decoration-color: #008080\">     1200</span> │ <span style=\"color: #008080; text-decoration-color: #008080\">        8</span> │ <span style=\"color: #008080; text-decoration-color: #008080\">                     0.92</span> │ <span style=\"color: #008080; text-decoration-color: #008080\">               13800</span> │  │\n",
       "│ │ <span style=\"color: #af87ff; text-decoration-color: #af87ff\">Purchase Date                  </span> │ <span style=\"color: #008080; text-decoration-color: #008080\">     1050</span> │ <span style=\"color: #008080; text-decoration-color: #008080\">        7</span> │ <span style=\"color: #008080; text-decoration-color: #008080\">                     0.93</span> │ <span style=\"color: #008080; text-decoration-color: #008080\">               13950</span> │  │\n",
       "│ │ <span style=\"color: #af87ff; text-decoration-color: #af87ff\">Product Category               </span> │ <span style=\"color: #008080; text-decoration-color: #008080\">      900</span> │ <span style=\"color: #008080; text-decoration-color: #008080\">        6</span> │ <span style=\"color: #008080; text-decoration-color: #008080\">                      1.3</span> │ <span style=\"color: #008080; text-decoration-color: #008080\">               18818</span> │  │\n",
       "│ └─────────────────────────────────┴───────────┴───────────┴───────────────────────────┴──────────────────────┘  │\n",
       "╰────────────────────────────────────────────────────── End ──────────────────────────────────────────────────────╯\n",
       "</pre>\n"
      ],
      "text/plain": [
       "╭──────────────────────────────────────────────── skimpy summary ─────────────────────────────────────────────────╮\n",
       "│ \u001b[3m         Data Summary         \u001b[0m \u001b[3m      Data Types       \u001b[0m                                                          │\n",
       "│ ┏━━━━━━━━━━━━━━━━━━━┳━━━━━━━━┓ ┏━━━━━━━━━━━━━┳━━━━━━━┓                                                          │\n",
       "│ ┃\u001b[1;36m \u001b[0m\u001b[1;36mdataframe        \u001b[0m\u001b[1;36m \u001b[0m┃\u001b[1;36m \u001b[0m\u001b[1;36mValues\u001b[0m\u001b[1;36m \u001b[0m┃ ┃\u001b[1;36m \u001b[0m\u001b[1;36mColumn Type\u001b[0m\u001b[1;36m \u001b[0m┃\u001b[1;36m \u001b[0m\u001b[1;36mCount\u001b[0m\u001b[1;36m \u001b[0m┃                                                          │\n",
       "│ ┡━━━━━━━━━━━━━━━━━━━╇━━━━━━━━┩ ┡━━━━━━━━━━━━━╇━━━━━━━┩                                                          │\n",
       "│ │ Number of rows    │ 15000  │ │ string      │ 4     │                                                          │\n",
       "│ │ Number of columns │ 7      │ │ float64     │ 2     │                                                          │\n",
       "│ └───────────────────┴────────┘ │ int32       │ 1     │                                                          │\n",
       "│                                └─────────────┴───────┘                                                          │\n",
       "│ \u001b[3m                                                    number                                                    \u001b[0m  │\n",
       "│ ┏━━━━━━━━━━━━━━━━━━━━┳━━━━━━━┳━━━━━━━┳━━━━━━━━┳━━━━━━━━┳━━━━━━━┳━━━━━━━━┳━━━━━━━━┳━━━━━━━━┳━━━━━━━━┳━━━━━━━━━┓  │\n",
       "│ ┃\u001b[1m \u001b[0m\u001b[1mcolumn_name       \u001b[0m\u001b[1m \u001b[0m┃\u001b[1m \u001b[0m\u001b[1mNA   \u001b[0m\u001b[1m \u001b[0m┃\u001b[1m \u001b[0m\u001b[1mNA % \u001b[0m\u001b[1m \u001b[0m┃\u001b[1m \u001b[0m\u001b[1mmean  \u001b[0m\u001b[1m \u001b[0m┃\u001b[1m \u001b[0m\u001b[1msd    \u001b[0m\u001b[1m \u001b[0m┃\u001b[1m \u001b[0m\u001b[1mp0   \u001b[0m\u001b[1m \u001b[0m┃\u001b[1m \u001b[0m\u001b[1mp25   \u001b[0m\u001b[1m \u001b[0m┃\u001b[1m \u001b[0m\u001b[1mp50   \u001b[0m\u001b[1m \u001b[0m┃\u001b[1m \u001b[0m\u001b[1mp75   \u001b[0m\u001b[1m \u001b[0m┃\u001b[1m \u001b[0m\u001b[1mp100  \u001b[0m\u001b[1m \u001b[0m┃\u001b[1m \u001b[0m\u001b[1mhist   \u001b[0m\u001b[1m \u001b[0m┃  │\n",
       "│ ┡━━━━━━━━━━━━━━━━━━━━╇━━━━━━━╇━━━━━━━╇━━━━━━━━╇━━━━━━━━╇━━━━━━━╇━━━━━━━━╇━━━━━━━━╇━━━━━━━━╇━━━━━━━━╇━━━━━━━━━┩  │\n",
       "│ │ \u001b[38;5;141mUser ID           \u001b[0m │ \u001b[36m    0\u001b[0m │ \u001b[36m    0\u001b[0m │ \u001b[36m  7500\u001b[0m │ \u001b[36m  4330\u001b[0m │ \u001b[36m    1\u001b[0m │ \u001b[36m  3751\u001b[0m │ \u001b[36m  7500\u001b[0m │ \u001b[36m 11250\u001b[0m │ \u001b[36m 15000\u001b[0m │ \u001b[32m▇▇▇▇▇▇ \u001b[0m │  │\n",
       "│ │ \u001b[38;5;141mAge               \u001b[0m │ \u001b[36m 1500\u001b[0m │ \u001b[36m   10\u001b[0m │ \u001b[36m  43.4\u001b[0m │ \u001b[36m 14.93\u001b[0m │ \u001b[36m   18\u001b[0m │ \u001b[36m    31\u001b[0m │ \u001b[36m    43\u001b[0m │ \u001b[36m    56\u001b[0m │ \u001b[36m    69\u001b[0m │ \u001b[32m▇▇▇▇▇▇ \u001b[0m │  │\n",
       "│ │ \u001b[38;5;141mPurchase Amount   \u001b[0m │ \u001b[36m 1800\u001b[0m │ \u001b[36m   12\u001b[0m │ \u001b[36m 253.2\u001b[0m │ \u001b[36m 143.1\u001b[0m │ \u001b[36m 5.05\u001b[0m │ \u001b[36m 130.3\u001b[0m │ \u001b[36m 253.6\u001b[0m │ \u001b[36m 378.6\u001b[0m │ \u001b[36m 499.9\u001b[0m │ \u001b[32m▇▇▇▇▇▇ \u001b[0m │  │\n",
       "│ └────────────────────┴───────┴───────┴────────┴────────┴───────┴────────┴────────┴────────┴────────┴─────────┘  │\n",
       "│ \u001b[3m                                                    string                                                    \u001b[0m  │\n",
       "│ ┏━━━━━━━━━━━━━━━━━━━━━━━━━━━━━━━━━┳━━━━━━━━━━━┳━━━━━━━━━━━┳━━━━━━━━━━━━━━━━━━━━━━━━━━━┳━━━━━━━━━━━━━━━━━━━━━━┓  │\n",
       "│ ┃\u001b[1m \u001b[0m\u001b[1mcolumn_name                    \u001b[0m\u001b[1m \u001b[0m┃\u001b[1m \u001b[0m\u001b[1mNA       \u001b[0m\u001b[1m \u001b[0m┃\u001b[1m \u001b[0m\u001b[1mNA %     \u001b[0m\u001b[1m \u001b[0m┃\u001b[1m \u001b[0m\u001b[1mwords per row            \u001b[0m\u001b[1m \u001b[0m┃\u001b[1m \u001b[0m\u001b[1mtotal words         \u001b[0m\u001b[1m \u001b[0m┃  │\n",
       "│ ┡━━━━━━━━━━━━━━━━━━━━━━━━━━━━━━━━━╇━━━━━━━━━━━╇━━━━━━━━━━━╇━━━━━━━━━━━━━━━━━━━━━━━━━━━╇━━━━━━━━━━━━━━━━━━━━━━┩  │\n",
       "│ │ \u001b[38;5;141mGender                         \u001b[0m │ \u001b[36m      750\u001b[0m │ \u001b[36m        5\u001b[0m │ \u001b[36m                     0.95\u001b[0m │ \u001b[36m               14250\u001b[0m │  │\n",
       "│ │ \u001b[38;5;141mCountry                        \u001b[0m │ \u001b[36m     1200\u001b[0m │ \u001b[36m        8\u001b[0m │ \u001b[36m                     0.92\u001b[0m │ \u001b[36m               13800\u001b[0m │  │\n",
       "│ │ \u001b[38;5;141mPurchase Date                  \u001b[0m │ \u001b[36m     1050\u001b[0m │ \u001b[36m        7\u001b[0m │ \u001b[36m                     0.93\u001b[0m │ \u001b[36m               13950\u001b[0m │  │\n",
       "│ │ \u001b[38;5;141mProduct Category               \u001b[0m │ \u001b[36m      900\u001b[0m │ \u001b[36m        6\u001b[0m │ \u001b[36m                      1.3\u001b[0m │ \u001b[36m               18818\u001b[0m │  │\n",
       "│ └─────────────────────────────────┴───────────┴───────────┴───────────────────────────┴──────────────────────┘  │\n",
       "╰────────────────────────────────────────────────────── End ──────────────────────────────────────────────────────╯\n"
      ]
     },
     "metadata": {},
     "output_type": "display_data"
    }
   ],
   "source": [
    "skim(df)"
   ]
  },
  {
   "cell_type": "code",
   "execution_count": 7,
   "id": "2e5efb26-fc09-4fc4-a899-4678d138ad0c",
   "metadata": {},
   "outputs": [
    {
     "data": {
      "text/plain": [
       "0"
      ]
     },
     "execution_count": 7,
     "metadata": {},
     "output_type": "execute_result"
    }
   ],
   "source": [
    "df.duplicated().sum()"
   ]
  },
  {
   "cell_type": "code",
   "execution_count": 8,
   "id": "692185ad-78f4-4b1b-a326-11120a3fbde0",
   "metadata": {},
   "outputs": [
    {
     "data": {
      "text/html": [
       "<div>\n",
       "<style scoped>\n",
       "    .dataframe tbody tr th:only-of-type {\n",
       "        vertical-align: middle;\n",
       "    }\n",
       "\n",
       "    .dataframe tbody tr th {\n",
       "        vertical-align: top;\n",
       "    }\n",
       "\n",
       "    .dataframe thead th {\n",
       "        text-align: right;\n",
       "    }\n",
       "</style>\n",
       "<table border=\"1\" class=\"dataframe\">\n",
       "  <thead>\n",
       "    <tr style=\"text-align: right;\">\n",
       "      <th></th>\n",
       "      <th>count</th>\n",
       "      <th>mean</th>\n",
       "      <th>std</th>\n",
       "      <th>min</th>\n",
       "      <th>25%</th>\n",
       "      <th>50%</th>\n",
       "      <th>75%</th>\n",
       "      <th>max</th>\n",
       "    </tr>\n",
       "  </thead>\n",
       "  <tbody>\n",
       "    <tr>\n",
       "      <th>User ID</th>\n",
       "      <td>15000.0</td>\n",
       "      <td>7500.50000</td>\n",
       "      <td>4330.271354</td>\n",
       "      <td>1.00</td>\n",
       "      <td>3750.750</td>\n",
       "      <td>7500.500</td>\n",
       "      <td>11250.250</td>\n",
       "      <td>15000.00</td>\n",
       "    </tr>\n",
       "    <tr>\n",
       "      <th>Age</th>\n",
       "      <td>13500.0</td>\n",
       "      <td>43.39600</td>\n",
       "      <td>14.927082</td>\n",
       "      <td>18.00</td>\n",
       "      <td>31.000</td>\n",
       "      <td>43.000</td>\n",
       "      <td>56.000</td>\n",
       "      <td>69.00</td>\n",
       "    </tr>\n",
       "    <tr>\n",
       "      <th>Purchase Amount</th>\n",
       "      <td>13200.0</td>\n",
       "      <td>253.21772</td>\n",
       "      <td>143.113919</td>\n",
       "      <td>5.05</td>\n",
       "      <td>130.335</td>\n",
       "      <td>253.645</td>\n",
       "      <td>378.585</td>\n",
       "      <td>499.95</td>\n",
       "    </tr>\n",
       "  </tbody>\n",
       "</table>\n",
       "</div>"
      ],
      "text/plain": [
       "                   count        mean          std    min       25%       50%  \\\n",
       "User ID          15000.0  7500.50000  4330.271354   1.00  3750.750  7500.500   \n",
       "Age              13500.0    43.39600    14.927082  18.00    31.000    43.000   \n",
       "Purchase Amount  13200.0   253.21772   143.113919   5.05   130.335   253.645   \n",
       "\n",
       "                       75%       max  \n",
       "User ID          11250.250  15000.00  \n",
       "Age                 56.000     69.00  \n",
       "Purchase Amount    378.585    499.95  "
      ]
     },
     "execution_count": 8,
     "metadata": {},
     "output_type": "execute_result"
    }
   ],
   "source": [
    "df.describe().T"
   ]
  },
  {
   "cell_type": "code",
   "execution_count": 9,
   "id": "6ef39172-19f9-4390-928b-c7d1799daeb1",
   "metadata": {},
   "outputs": [
    {
     "data": {
      "text/html": [
       "<div>\n",
       "<style scoped>\n",
       "    .dataframe tbody tr th:only-of-type {\n",
       "        vertical-align: middle;\n",
       "    }\n",
       "\n",
       "    .dataframe tbody tr th {\n",
       "        vertical-align: top;\n",
       "    }\n",
       "\n",
       "    .dataframe thead th {\n",
       "        text-align: right;\n",
       "    }\n",
       "</style>\n",
       "<table border=\"1\" class=\"dataframe\">\n",
       "  <thead>\n",
       "    <tr style=\"text-align: right;\">\n",
       "      <th></th>\n",
       "      <th>count</th>\n",
       "      <th>unique</th>\n",
       "      <th>top</th>\n",
       "      <th>freq</th>\n",
       "    </tr>\n",
       "  </thead>\n",
       "  <tbody>\n",
       "    <tr>\n",
       "      <th>Gender</th>\n",
       "      <td>14250</td>\n",
       "      <td>3</td>\n",
       "      <td>Female</td>\n",
       "      <td>4818</td>\n",
       "    </tr>\n",
       "    <tr>\n",
       "      <th>Country</th>\n",
       "      <td>13800</td>\n",
       "      <td>6</td>\n",
       "      <td>France</td>\n",
       "      <td>2444</td>\n",
       "    </tr>\n",
       "    <tr>\n",
       "      <th>Purchase Date</th>\n",
       "      <td>13950</td>\n",
       "      <td>1460</td>\n",
       "      <td>2022-04-28</td>\n",
       "      <td>26</td>\n",
       "    </tr>\n",
       "    <tr>\n",
       "      <th>Product Category</th>\n",
       "      <td>14100</td>\n",
       "      <td>6</td>\n",
       "      <td>Clothing</td>\n",
       "      <td>2444</td>\n",
       "    </tr>\n",
       "  </tbody>\n",
       "</table>\n",
       "</div>"
      ],
      "text/plain": [
       "                  count unique         top  freq\n",
       "Gender            14250      3      Female  4818\n",
       "Country           13800      6      France  2444\n",
       "Purchase Date     13950   1460  2022-04-28    26\n",
       "Product Category  14100      6    Clothing  2444"
      ]
     },
     "execution_count": 9,
     "metadata": {},
     "output_type": "execute_result"
    }
   ],
   "source": [
    "df.describe(include= \"object\").T"
   ]
  },
  {
   "cell_type": "code",
   "execution_count": 10,
   "id": "526c672b-1359-4ee0-9b75-f6bbcc52513b",
   "metadata": {},
   "outputs": [
    {
     "data": {
      "text/plain": [
       "Index(['User ID', 'Age', 'Gender', 'Country', 'Purchase Amount',\n",
       "       'Purchase Date', 'Product Category'],\n",
       "      dtype='object')"
      ]
     },
     "execution_count": 10,
     "metadata": {},
     "output_type": "execute_result"
    }
   ],
   "source": [
    "df.columns"
   ]
  },
  {
   "cell_type": "code",
   "execution_count": 11,
   "id": "12a1ea17-190d-4515-9802-80f20d2f1274",
   "metadata": {},
   "outputs": [],
   "source": [
    "df.columns = df.columns.str.lower()"
   ]
  },
  {
   "cell_type": "code",
   "execution_count": 12,
   "id": "1bf5c3a6-c977-402c-953b-96a428ecf6cc",
   "metadata": {},
   "outputs": [],
   "source": [
    "df.columns = ['user id', 'age', 'gender', 'country', 'purchase_amount',\n",
    "       'purchase_date', 'category']"
   ]
  },
  {
   "cell_type": "code",
   "execution_count": null,
   "id": "92802a83-6aa8-4f0c-be99-e4b769d9d11f",
   "metadata": {},
   "outputs": [],
   "source": []
  },
  {
   "cell_type": "markdown",
   "id": "b49a6e59-a6da-4889-a47a-f2e83d3b16e1",
   "metadata": {},
   "source": [
    "<a id='organizing-columns'></a>\n",
    "# <font color='firebrick'> <b>Organizing Columns</b><font color='black'> "
   ]
  },
  {
   "cell_type": "code",
   "execution_count": 13,
   "id": "75b6f569-ee51-40f5-9f32-37f095bd20bd",
   "metadata": {},
   "outputs": [
    {
     "data": {
      "text/plain": [
       "dtype('float64')"
      ]
     },
     "execution_count": 13,
     "metadata": {},
     "output_type": "execute_result"
    }
   ],
   "source": [
    "df.age.dtype"
   ]
  },
  {
   "cell_type": "code",
   "execution_count": 14,
   "id": "3ec4f335-abde-4d2a-bab0-576c2f147f28",
   "metadata": {},
   "outputs": [
    {
     "data": {
      "text/plain": [
       "array(['Female', 'Male', nan, 'Other'], dtype=object)"
      ]
     },
     "execution_count": 14,
     "metadata": {},
     "output_type": "execute_result"
    }
   ],
   "source": [
    "df.gender.unique()"
   ]
  },
  {
   "cell_type": "code",
   "execution_count": 15,
   "id": "1c2161b5-da90-4488-b22b-da1bfed0ed60",
   "metadata": {},
   "outputs": [
    {
     "data": {
      "text/plain": [
       "750"
      ]
     },
     "execution_count": 15,
     "metadata": {},
     "output_type": "execute_result"
    }
   ],
   "source": [
    "df.gender.isnull().sum()"
   ]
  },
  {
   "cell_type": "code",
   "execution_count": 16,
   "id": "5740154a-fa03-4c31-8c0e-3084debcbc5e",
   "metadata": {},
   "outputs": [
    {
     "data": {
      "text/plain": [
       "1200"
      ]
     },
     "execution_count": 16,
     "metadata": {},
     "output_type": "execute_result"
    }
   ],
   "source": [
    "df.country.isnull().sum()"
   ]
  },
  {
   "cell_type": "code",
   "execution_count": 17,
   "id": "c81b8e14-2944-401e-97e9-5bdac5588641",
   "metadata": {},
   "outputs": [
    {
     "data": {
      "text/plain": [
       "1800"
      ]
     },
     "execution_count": 17,
     "metadata": {},
     "output_type": "execute_result"
    }
   ],
   "source": [
    "df.purchase_amount.isnull().sum()"
   ]
  },
  {
   "cell_type": "code",
   "execution_count": 18,
   "id": "08bb8ef0-ffe3-46fb-9c23-5a119ae1531c",
   "metadata": {},
   "outputs": [
    {
     "data": {
      "text/plain": [
       "1050"
      ]
     },
     "execution_count": 18,
     "metadata": {},
     "output_type": "execute_result"
    }
   ],
   "source": [
    "df.purchase_date.isnull().sum()"
   ]
  },
  {
   "cell_type": "code",
   "execution_count": 19,
   "id": "1e3c6f13-d428-40e4-9cea-3f14bebe2f5f",
   "metadata": {},
   "outputs": [
    {
     "data": {
      "text/plain": [
       "900"
      ]
     },
     "execution_count": 19,
     "metadata": {},
     "output_type": "execute_result"
    }
   ],
   "source": [
    "df.category.isnull().sum()"
   ]
  },
  {
   "cell_type": "markdown",
   "id": "dc23f935-72d9-4654-8a0b-0f2b15a5c643",
   "metadata": {},
   "source": [
    "<a id='nan-values'></a>\n",
    "# <font color='firebrick'> <b>NaN Values</b><font color='black'> "
   ]
  },
  {
   "cell_type": "code",
   "execution_count": 20,
   "id": "f045c374-1fa2-4a54-a71c-5e10ae332aed",
   "metadata": {},
   "outputs": [],
   "source": [
    "countries = df.country.value_counts().index"
   ]
  },
  {
   "cell_type": "code",
   "execution_count": 21,
   "id": "85ece056-8ec6-42a9-a5d6-4730bea121cc",
   "metadata": {},
   "outputs": [],
   "source": [
    "df['country'] = df['country'].apply(lambda x: x if pd.notna(x) else np.random.choice(countries))"
   ]
  },
  {
   "cell_type": "code",
   "execution_count": 22,
   "id": "d9878a42-ff21-4fa7-817b-0e50e3a076e5",
   "metadata": {},
   "outputs": [
    {
     "data": {
      "text/plain": [
       "user id               0\n",
       "age                1500\n",
       "gender              750\n",
       "country               0\n",
       "purchase_amount    1800\n",
       "purchase_date      1050\n",
       "category            900\n",
       "dtype: int64"
      ]
     },
     "execution_count": 22,
     "metadata": {},
     "output_type": "execute_result"
    }
   ],
   "source": [
    "df.isnull().sum()"
   ]
  },
  {
   "cell_type": "code",
   "execution_count": 23,
   "id": "41de68bb-7b54-4faf-8916-db5d94c357c7",
   "metadata": {},
   "outputs": [],
   "source": [
    "df['category'] = df['category'].fillna(df.groupby('country')['category'].transform(lambda x: x.mode().iloc[0] if not x.mode().empty else None))"
   ]
  },
  {
   "cell_type": "code",
   "execution_count": 24,
   "id": "b18342ec-b1a0-46ee-a5fe-c902c0445911",
   "metadata": {},
   "outputs": [
    {
     "data": {
      "text/plain": [
       "user id               0\n",
       "age                1500\n",
       "gender              750\n",
       "country               0\n",
       "purchase_amount    1800\n",
       "purchase_date      1050\n",
       "category              0\n",
       "dtype: int64"
      ]
     },
     "execution_count": 24,
     "metadata": {},
     "output_type": "execute_result"
    }
   ],
   "source": [
    "df.isnull().sum()"
   ]
  },
  {
   "cell_type": "markdown",
   "id": "d8f88c54-cb50-411e-8acf-df21e1f0d960",
   "metadata": {},
   "source": [
    "<a id='data-visualization'></a>\n",
    "# <font color='firebrick'> <b>Data Visualization</b><font color='black'> "
   ]
  },
  {
   "cell_type": "code",
   "execution_count": null,
   "id": "0ba0f02b-5c16-4f11-bd3d-77b5a493bc9d",
   "metadata": {},
   "outputs": [],
   "source": []
  },
  {
   "cell_type": "code",
   "execution_count": null,
   "id": "74d0a7f4-aa10-4097-8b27-b4f6aa5a0a18",
   "metadata": {},
   "outputs": [],
   "source": []
  },
  {
   "cell_type": "code",
   "execution_count": null,
   "id": "7ca449b6-61b1-4577-9f93-c9a15f1a95bb",
   "metadata": {},
   "outputs": [],
   "source": []
  },
  {
   "cell_type": "code",
   "execution_count": null,
   "id": "048d85e7-5899-4f4c-ac10-a45af21966ed",
   "metadata": {},
   "outputs": [],
   "source": []
  },
  {
   "cell_type": "code",
   "execution_count": null,
   "id": "77aecabe-8e11-4d89-a4ca-9cb20e64eb87",
   "metadata": {},
   "outputs": [],
   "source": []
  },
  {
   "cell_type": "code",
   "execution_count": null,
   "id": "9b853e9d-598d-4ab6-b052-0f92a1da8105",
   "metadata": {},
   "outputs": [],
   "source": []
  },
  {
   "cell_type": "code",
   "execution_count": null,
   "id": "c78f99e4-4813-40b5-afc4-278311b8c2d5",
   "metadata": {},
   "outputs": [],
   "source": []
  },
  {
   "cell_type": "code",
   "execution_count": null,
   "id": "5801770f-9127-4467-afa6-c66215e31872",
   "metadata": {},
   "outputs": [],
   "source": []
  },
  {
   "cell_type": "code",
   "execution_count": null,
   "id": "163fb83b-ece9-42f5-b831-ab31ddc120f4",
   "metadata": {},
   "outputs": [],
   "source": []
  },
  {
   "cell_type": "markdown",
   "id": "4fefb04f-f51a-4124-b72d-146e19870ab4",
   "metadata": {},
   "source": [
    "<p style=\"background-color:firebrick;font-family:newtimeroman;font-size:200%;color:white;text-align:center;border-radius:20px 20px;\"><b>THANK YOU!</b></p>"
   ]
  }
 ],
 "metadata": {
  "kernelspec": {
   "display_name": "Python 3 (ipykernel)",
   "language": "python",
   "name": "python3"
  },
  "language_info": {
   "codemirror_mode": {
    "name": "ipython",
    "version": 3
   },
   "file_extension": ".py",
   "mimetype": "text/x-python",
   "name": "python",
   "nbconvert_exporter": "python",
   "pygments_lexer": "ipython3",
   "version": "3.12.4"
  }
 },
 "nbformat": 4,
 "nbformat_minor": 5
}
